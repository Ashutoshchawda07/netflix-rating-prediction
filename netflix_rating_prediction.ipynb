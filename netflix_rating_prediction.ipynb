{
 "cells": [
  {
   "cell_type": "markdown",
   "id": "2c5367a0",
   "metadata": {},
   "source": [
    "# Netflix User Rating Prediction Project\n",
    "\n",
    "\n",
    "### Load the Dataset\n",
    "\n",
    "We begin by loading the Netflix dataset using pandas. The dataset contains information about Netflix shows and movies such as title, type, country, release year, duration, and more.\n"
   ]
  },
  {
   "cell_type": "code",
   "execution_count": 4,
   "id": "a5605a2a",
   "metadata": {},
   "outputs": [
    {
     "data": {
      "text/html": [
       "<div>\n",
       "<style scoped>\n",
       "    .dataframe tbody tr th:only-of-type {\n",
       "        vertical-align: middle;\n",
       "    }\n",
       "\n",
       "    .dataframe tbody tr th {\n",
       "        vertical-align: top;\n",
       "    }\n",
       "\n",
       "    .dataframe thead th {\n",
       "        text-align: right;\n",
       "    }\n",
       "</style>\n",
       "<table border=\"1\" class=\"dataframe\">\n",
       "  <thead>\n",
       "    <tr style=\"text-align: right;\">\n",
       "      <th></th>\n",
       "      <th>show_id</th>\n",
       "      <th>type</th>\n",
       "      <th>title</th>\n",
       "      <th>director</th>\n",
       "      <th>cast</th>\n",
       "      <th>country</th>\n",
       "      <th>date_added</th>\n",
       "      <th>release_year</th>\n",
       "      <th>rating</th>\n",
       "      <th>duration</th>\n",
       "      <th>listed_in</th>\n",
       "      <th>description</th>\n",
       "    </tr>\n",
       "  </thead>\n",
       "  <tbody>\n",
       "    <tr>\n",
       "      <th>0</th>\n",
       "      <td>s1</td>\n",
       "      <td>Movie</td>\n",
       "      <td>Dick Johnson Is Dead</td>\n",
       "      <td>Kirsten Johnson</td>\n",
       "      <td>NaN</td>\n",
       "      <td>United States</td>\n",
       "      <td>September 25, 2021</td>\n",
       "      <td>2020</td>\n",
       "      <td>PG-13</td>\n",
       "      <td>90 min</td>\n",
       "      <td>Documentaries</td>\n",
       "      <td>As her father nears the end of his life, filmm...</td>\n",
       "    </tr>\n",
       "    <tr>\n",
       "      <th>1</th>\n",
       "      <td>s2</td>\n",
       "      <td>TV Show</td>\n",
       "      <td>Blood &amp; Water</td>\n",
       "      <td>NaN</td>\n",
       "      <td>Ama Qamata, Khosi Ngema, Gail Mabalane, Thaban...</td>\n",
       "      <td>South Africa</td>\n",
       "      <td>September 24, 2021</td>\n",
       "      <td>2021</td>\n",
       "      <td>TV-MA</td>\n",
       "      <td>2 Seasons</td>\n",
       "      <td>International TV Shows, TV Dramas, TV Mysteries</td>\n",
       "      <td>After crossing paths at a party, a Cape Town t...</td>\n",
       "    </tr>\n",
       "    <tr>\n",
       "      <th>2</th>\n",
       "      <td>s3</td>\n",
       "      <td>TV Show</td>\n",
       "      <td>Ganglands</td>\n",
       "      <td>Julien Leclercq</td>\n",
       "      <td>Sami Bouajila, Tracy Gotoas, Samuel Jouy, Nabi...</td>\n",
       "      <td>NaN</td>\n",
       "      <td>September 24, 2021</td>\n",
       "      <td>2021</td>\n",
       "      <td>TV-MA</td>\n",
       "      <td>1 Season</td>\n",
       "      <td>Crime TV Shows, International TV Shows, TV Act...</td>\n",
       "      <td>To protect his family from a powerful drug lor...</td>\n",
       "    </tr>\n",
       "    <tr>\n",
       "      <th>3</th>\n",
       "      <td>s4</td>\n",
       "      <td>TV Show</td>\n",
       "      <td>Jailbirds New Orleans</td>\n",
       "      <td>NaN</td>\n",
       "      <td>NaN</td>\n",
       "      <td>NaN</td>\n",
       "      <td>September 24, 2021</td>\n",
       "      <td>2021</td>\n",
       "      <td>TV-MA</td>\n",
       "      <td>1 Season</td>\n",
       "      <td>Docuseries, Reality TV</td>\n",
       "      <td>Feuds, flirtations and toilet talk go down amo...</td>\n",
       "    </tr>\n",
       "    <tr>\n",
       "      <th>4</th>\n",
       "      <td>s5</td>\n",
       "      <td>TV Show</td>\n",
       "      <td>Kota Factory</td>\n",
       "      <td>NaN</td>\n",
       "      <td>Mayur More, Jitendra Kumar, Ranjan Raj, Alam K...</td>\n",
       "      <td>India</td>\n",
       "      <td>September 24, 2021</td>\n",
       "      <td>2021</td>\n",
       "      <td>TV-MA</td>\n",
       "      <td>2 Seasons</td>\n",
       "      <td>International TV Shows, Romantic TV Shows, TV ...</td>\n",
       "      <td>In a city of coaching centers known to train I...</td>\n",
       "    </tr>\n",
       "  </tbody>\n",
       "</table>\n",
       "</div>"
      ],
      "text/plain": [
       "  show_id     type                  title         director  \\\n",
       "0      s1    Movie   Dick Johnson Is Dead  Kirsten Johnson   \n",
       "1      s2  TV Show          Blood & Water              NaN   \n",
       "2      s3  TV Show              Ganglands  Julien Leclercq   \n",
       "3      s4  TV Show  Jailbirds New Orleans              NaN   \n",
       "4      s5  TV Show           Kota Factory              NaN   \n",
       "\n",
       "                                                cast        country  \\\n",
       "0                                                NaN  United States   \n",
       "1  Ama Qamata, Khosi Ngema, Gail Mabalane, Thaban...   South Africa   \n",
       "2  Sami Bouajila, Tracy Gotoas, Samuel Jouy, Nabi...            NaN   \n",
       "3                                                NaN            NaN   \n",
       "4  Mayur More, Jitendra Kumar, Ranjan Raj, Alam K...          India   \n",
       "\n",
       "           date_added  release_year rating   duration  \\\n",
       "0  September 25, 2021          2020  PG-13     90 min   \n",
       "1  September 24, 2021          2021  TV-MA  2 Seasons   \n",
       "2  September 24, 2021          2021  TV-MA   1 Season   \n",
       "3  September 24, 2021          2021  TV-MA   1 Season   \n",
       "4  September 24, 2021          2021  TV-MA  2 Seasons   \n",
       "\n",
       "                                           listed_in  \\\n",
       "0                                      Documentaries   \n",
       "1    International TV Shows, TV Dramas, TV Mysteries   \n",
       "2  Crime TV Shows, International TV Shows, TV Act...   \n",
       "3                             Docuseries, Reality TV   \n",
       "4  International TV Shows, Romantic TV Shows, TV ...   \n",
       "\n",
       "                                         description  \n",
       "0  As her father nears the end of his life, filmm...  \n",
       "1  After crossing paths at a party, a Cape Town t...  \n",
       "2  To protect his family from a powerful drug lor...  \n",
       "3  Feuds, flirtations and toilet talk go down amo...  \n",
       "4  In a city of coaching centers known to train I...  "
      ]
     },
     "execution_count": 4,
     "metadata": {},
     "output_type": "execute_result"
    }
   ],
   "source": [
    "import pandas as pd\n",
    "\n",
    "# Load the dataset\n",
    "df = pd.read_csv('netflix_titles.csv')\n",
    "\n",
    "# Show the first 5 rows\n",
    "df.head()\n"
   ]
  },
  {
   "cell_type": "markdown",
   "id": "3aff4a6b",
   "metadata": {},
   "source": [
    "### Basic Information and Missing Values\n",
    "\n",
    "Let’s explore the shape, column names, and missing data in the dataset. This will help us understand how clean the data is and which columns may need attention.\n"
   ]
  },
  {
   "cell_type": "code",
   "execution_count": 5,
   "id": "de238ac0",
   "metadata": {},
   "outputs": [
    {
     "name": "stdout",
     "output_type": "stream",
     "text": [
      "Shape of the dataset: (8807, 12)\n",
      "\n",
      "Columns:\n",
      "Index(['show_id', 'type', 'title', 'director', 'cast', 'country', 'date_added',\n",
      "       'release_year', 'rating', 'duration', 'listed_in', 'description'],\n",
      "      dtype='object')\n",
      "\n",
      "Dataset Info:\n",
      "<class 'pandas.core.frame.DataFrame'>\n",
      "RangeIndex: 8807 entries, 0 to 8806\n",
      "Data columns (total 12 columns):\n",
      " #   Column        Non-Null Count  Dtype \n",
      "---  ------        --------------  ----- \n",
      " 0   show_id       8807 non-null   object\n",
      " 1   type          8807 non-null   object\n",
      " 2   title         8807 non-null   object\n",
      " 3   director      6173 non-null   object\n",
      " 4   cast          7982 non-null   object\n",
      " 5   country       7976 non-null   object\n",
      " 6   date_added    8797 non-null   object\n",
      " 7   release_year  8807 non-null   int64 \n",
      " 8   rating        8803 non-null   object\n",
      " 9   duration      8804 non-null   object\n",
      " 10  listed_in     8807 non-null   object\n",
      " 11  description   8807 non-null   object\n",
      "dtypes: int64(1), object(11)\n",
      "memory usage: 825.8+ KB\n",
      "\n",
      "Missing values in each column:\n",
      "show_id            0\n",
      "type               0\n",
      "title              0\n",
      "director        2634\n",
      "cast             825\n",
      "country          831\n",
      "date_added        10\n",
      "release_year       0\n",
      "rating             4\n",
      "duration           3\n",
      "listed_in          0\n",
      "description        0\n",
      "dtype: int64\n"
     ]
    }
   ],
   "source": [
    "# Check the shape of the dataset (rows, columns)\n",
    "print(\"Shape of the dataset:\", df.shape)\n",
    "\n",
    "# View column names\n",
    "print(\"\\nColumns:\")\n",
    "print(df.columns)\n",
    "\n",
    "# Basic info about data types and non-null counts\n",
    "print(\"\\nDataset Info:\")\n",
    "df.info()\n",
    "\n",
    "# Check for missing values\n",
    "print(\"\\nMissing values in each column:\")\n",
    "print(df.isnull().sum())\n"
   ]
  },
  {
   "cell_type": "markdown",
   "id": "7522ba65",
   "metadata": {},
   "source": [
    "### Clean the Dataset\n",
    "\n",
    "We'll remove columns that are either not useful or have too many missing values. We'll also drop rows with small amounts of missing data to keep the dataset clean and ready for analysis.\n"
   ]
  },
  {
   "cell_type": "code",
   "execution_count": 6,
   "id": "fbbce32a",
   "metadata": {},
   "outputs": [
    {
     "name": "stdout",
     "output_type": "stream",
     "text": [
      "Cleaned dataset shape: (7290, 9)\n"
     ]
    }
   ],
   "source": [
    "# Drop columns not useful for rating prediction\n",
    "df.drop(['show_id', 'description', 'director'], axis=1, inplace=True)\n",
    "\n",
    "# Optional: drop rows with any missing data (small % only)\n",
    "df.dropna(inplace=True)\n",
    "\n",
    "# Check the cleaned shape\n",
    "print(\"Cleaned dataset shape:\", df.shape)"
   ]
  },
  {
   "cell_type": "markdown",
   "id": "2fe4e2df",
   "metadata": {},
   "source": [
    "If you want to keep more data, you could fill missing values instead of dropping them:"
   ]
  },
  {
   "cell_type": "code",
   "execution_count": null,
   "id": "57cca97c",
   "metadata": {},
   "outputs": [],
   "source": [
    "\n",
    "# df['country'].fillna('Unknown', inplace=True)\n",
    "# df['cast'].fillna('Not Available', inplace=True)\n",
    "# df['date_added'].fillna(df['date_added'].mode()[0], inplace=True)\n",
    "# df['rating'].fillna(df['rating'].mode()[0], inplace=True)\n",
    "# df['duration'].fillna(df['duration'].mode()[0], inplace=True)\n"
   ]
  },
  {
   "cell_type": "markdown",
   "id": "f4674910",
   "metadata": {},
   "source": [
    "### Check Data Types\n",
    "\n",
    "Now that we’ve cleaned the dataset, we’ll check the data types of all columns to identify which ones need to be converted for machine learning models.\n"
   ]
  },
  {
   "cell_type": "code",
   "execution_count": 7,
   "id": "a75ef2fb",
   "metadata": {},
   "outputs": [
    {
     "data": {
      "text/plain": [
       "type            object\n",
       "title           object\n",
       "cast            object\n",
       "country         object\n",
       "date_added      object\n",
       "release_year     int64\n",
       "rating          object\n",
       "duration        object\n",
       "listed_in       object\n",
       "dtype: object"
      ]
     },
     "execution_count": 7,
     "metadata": {},
     "output_type": "execute_result"
    }
   ],
   "source": [
    "# Check data types\n",
    "df.dtypes\n"
   ]
  },
  {
   "cell_type": "markdown",
   "id": "ef3c26f6",
   "metadata": {},
   "source": [
    "### Prepare Categorical Columns for Encoding\n",
    "\n",
    "Now that we know the data types, we need to decide how to handle categorical (text-based) columns. \n",
    "\n",
    "We will:\n",
    "- Identify which columns are categorical\n",
    "- Drop columns that are not useful for prediction (like 'title')\n",
    "- Leave the rest for encoding in the next step\n"
   ]
  },
  {
   "cell_type": "code",
   "execution_count": 8,
   "id": "dcb06bf5",
   "metadata": {},
   "outputs": [
    {
     "name": "stdout",
     "output_type": "stream",
     "text": [
      "\n",
      "Unique values in 'type': ['TV Show' 'Movie']\n",
      "\n",
      "Unique values in 'rating': ['TV-MA' 'TV-14' 'PG-13' 'TV-Y7' 'PG' 'R' 'TV-PG' 'TV-Y' 'TV-G' 'G'\n",
      " 'NC-17' 'NR' 'TV-Y7-FV' 'UR']\n",
      "\n",
      "Unique values in 'country': ['South Africa' 'India'\n",
      " 'United States, Ghana, Burkina Faso, United Kingdom, Germany, Ethiopia'\n",
      " 'United Kingdom' 'United States']\n",
      "\n",
      "Unique values in 'listed_in': ['International TV Shows, TV Dramas, TV Mysteries'\n",
      " 'International TV Shows, Romantic TV Shows, TV Comedies'\n",
      " 'Dramas, Independent Movies, International Movies'\n",
      " 'British TV Shows, Reality TV' 'Comedies, Dramas']\n",
      "\n",
      "Unique values in 'duration': ['2 Seasons' '125 min' '9 Seasons' '104 min' '127 min']\n"
     ]
    }
   ],
   "source": [
    "# View unique values in text columns to decide encoding strategy\n",
    "print(\"\\nUnique values in 'type':\", df['type'].unique())\n",
    "print(\"\\nUnique values in 'rating':\", df['rating'].unique())\n",
    "print(\"\\nUnique values in 'country':\", df['country'].unique()[:5])  # show only first 5\n",
    "print(\"\\nUnique values in 'listed_in':\", df['listed_in'].unique()[:5])\n",
    "print(\"\\nUnique values in 'duration':\", df['duration'].unique()[:5])\n"
   ]
  },
  {
   "cell_type": "markdown",
   "id": "387283de",
   "metadata": {},
   "source": [
    "### Clean date_added before converting\n",
    "\n",
    "The 'date_added' column has leading spaces in some rows. We use `.str.strip()` to remove them before converting to datetime.\n"
   ]
  },
  {
   "cell_type": "code",
   "execution_count": 14,
   "id": "c6f82368",
   "metadata": {},
   "outputs": [],
   "source": [
    "# Remove leading/trailing spaces in date_added column\n",
    "df['date_added'] = df['date_added'].str.strip()\n",
    "\n",
    "# Now safely convert to datetime and extract year\n",
    "df['year_added'] = pd.to_datetime(df['date_added']).dt.year\n"
   ]
  },
  {
   "cell_type": "markdown",
   "id": "a0bf33f1",
   "metadata": {},
   "source": [
    "### Drop and Convert Columns for Feature Engineering\n",
    "\n",
    "Now that we've reviewed the unique values, we'll:\n",
    "- Drop unnecessary text columns (`title`, `cast`)\n",
    "- Convert the `duration` column into numeric format\n",
    "- Extract the year from `date_added` to use as a feature\n"
   ]
  },
  {
   "cell_type": "code",
   "execution_count": 15,
   "id": "a20e3bca",
   "metadata": {},
   "outputs": [
    {
     "data": {
      "text/html": [
       "<div>\n",
       "<style scoped>\n",
       "    .dataframe tbody tr th:only-of-type {\n",
       "        vertical-align: middle;\n",
       "    }\n",
       "\n",
       "    .dataframe tbody tr th {\n",
       "        vertical-align: top;\n",
       "    }\n",
       "\n",
       "    .dataframe thead th {\n",
       "        text-align: right;\n",
       "    }\n",
       "</style>\n",
       "<table border=\"1\" class=\"dataframe\">\n",
       "  <thead>\n",
       "    <tr style=\"text-align: right;\">\n",
       "      <th></th>\n",
       "      <th>type</th>\n",
       "      <th>country</th>\n",
       "      <th>release_year</th>\n",
       "      <th>rating</th>\n",
       "      <th>listed_in</th>\n",
       "      <th>duration_int</th>\n",
       "      <th>year_added</th>\n",
       "    </tr>\n",
       "  </thead>\n",
       "  <tbody>\n",
       "    <tr>\n",
       "      <th>1</th>\n",
       "      <td>TV Show</td>\n",
       "      <td>South Africa</td>\n",
       "      <td>2021</td>\n",
       "      <td>TV-MA</td>\n",
       "      <td>International TV Shows, TV Dramas, TV Mysteries</td>\n",
       "      <td>2</td>\n",
       "      <td>2021</td>\n",
       "    </tr>\n",
       "    <tr>\n",
       "      <th>4</th>\n",
       "      <td>TV Show</td>\n",
       "      <td>India</td>\n",
       "      <td>2021</td>\n",
       "      <td>TV-MA</td>\n",
       "      <td>International TV Shows, Romantic TV Shows, TV ...</td>\n",
       "      <td>2</td>\n",
       "      <td>2021</td>\n",
       "    </tr>\n",
       "    <tr>\n",
       "      <th>7</th>\n",
       "      <td>Movie</td>\n",
       "      <td>United States, Ghana, Burkina Faso, United Kin...</td>\n",
       "      <td>1993</td>\n",
       "      <td>TV-MA</td>\n",
       "      <td>Dramas, Independent Movies, International Movies</td>\n",
       "      <td>125</td>\n",
       "      <td>2021</td>\n",
       "    </tr>\n",
       "    <tr>\n",
       "      <th>8</th>\n",
       "      <td>TV Show</td>\n",
       "      <td>United Kingdom</td>\n",
       "      <td>2021</td>\n",
       "      <td>TV-14</td>\n",
       "      <td>British TV Shows, Reality TV</td>\n",
       "      <td>9</td>\n",
       "      <td>2021</td>\n",
       "    </tr>\n",
       "    <tr>\n",
       "      <th>9</th>\n",
       "      <td>Movie</td>\n",
       "      <td>United States</td>\n",
       "      <td>2021</td>\n",
       "      <td>PG-13</td>\n",
       "      <td>Comedies, Dramas</td>\n",
       "      <td>104</td>\n",
       "      <td>2021</td>\n",
       "    </tr>\n",
       "  </tbody>\n",
       "</table>\n",
       "</div>"
      ],
      "text/plain": [
       "      type                                            country  release_year  \\\n",
       "1  TV Show                                       South Africa          2021   \n",
       "4  TV Show                                              India          2021   \n",
       "7    Movie  United States, Ghana, Burkina Faso, United Kin...          1993   \n",
       "8  TV Show                                     United Kingdom          2021   \n",
       "9    Movie                                      United States          2021   \n",
       "\n",
       "  rating                                          listed_in  duration_int  \\\n",
       "1  TV-MA    International TV Shows, TV Dramas, TV Mysteries             2   \n",
       "4  TV-MA  International TV Shows, Romantic TV Shows, TV ...             2   \n",
       "7  TV-MA   Dramas, Independent Movies, International Movies           125   \n",
       "8  TV-14                       British TV Shows, Reality TV             9   \n",
       "9  PG-13                                   Comedies, Dramas           104   \n",
       "\n",
       "   year_added  \n",
       "1        2021  \n",
       "4        2021  \n",
       "7        2021  \n",
       "8        2021  \n",
       "9        2021  "
      ]
     },
     "execution_count": 15,
     "metadata": {},
     "output_type": "execute_result"
    }
   ],
   "source": [
    "# Drop unnecessary text columns\n",
    "\n",
    "#df.drop(['title', 'cast'], axis=1, inplace=True)\n",
    "\n",
    "# Convert 'duration' into numeric values (e.g., \"90 min\" → 90, \"2 Seasons\" → 2)\n",
    "# We'll create a new column: duration_int\n",
    "df['duration_int'] = df['duration'].str.extract('(\\d+)').astype(int)\n",
    "\n",
    "# Extract year from 'date_added' (e.g., \"September 9, 2019\" → 2019)\n",
    "df['year_added'] = pd.to_datetime(df['date_added']).dt.year\n",
    "\n",
    "# Drop the original 'duration' and 'date_added' columns\n",
    "df.drop(['duration', 'date_added'], axis=1, inplace=True)\n",
    "\n",
    "# Check result\n",
    "df.head()\n"
   ]
  },
  {
   "cell_type": "markdown",
   "id": "59672eec",
   "metadata": {},
   "source": [
    "### Encode Remaining Categorical Columns (Label Encoding)\n",
    "\n",
    "At this point, your dataset still has some columns with text that we need to convert into numbers."
   ]
  },
  {
   "cell_type": "code",
   "execution_count": 16,
   "id": "acb1d1d0",
   "metadata": {},
   "outputs": [
    {
     "data": {
      "text/plain": [
       "type            object\n",
       "country         object\n",
       "release_year     int64\n",
       "rating          object\n",
       "listed_in       object\n",
       "duration_int     int64\n",
       "year_added       int32\n",
       "dtype: object"
      ]
     },
     "execution_count": 16,
     "metadata": {},
     "output_type": "execute_result"
    }
   ],
   "source": [
    "df.columns\n",
    "df.dtypes"
   ]
  },
  {
   "cell_type": "markdown",
   "id": "f15f6bd9",
   "metadata": {},
   "source": [
    "### Encode Remaining Categorical Columns Using Label Encoding\n",
    "\n",
    "Machine learning models like Linear Regression require all features to be numeric.\n",
    "\n",
    "We will use `LabelEncoder` from `sklearn` to convert the following columns to numbers:\n",
    "- 'type'\n",
    "- 'country'\n",
    "- 'rating'\n",
    "- 'listed_in'\n"
   ]
  },
  {
   "cell_type": "code",
   "execution_count": 21,
   "id": "9b152f19",
   "metadata": {},
   "outputs": [
    {
     "data": {
      "text/html": [
       "<div>\n",
       "<style scoped>\n",
       "    .dataframe tbody tr th:only-of-type {\n",
       "        vertical-align: middle;\n",
       "    }\n",
       "\n",
       "    .dataframe tbody tr th {\n",
       "        vertical-align: top;\n",
       "    }\n",
       "\n",
       "    .dataframe thead th {\n",
       "        text-align: right;\n",
       "    }\n",
       "</style>\n",
       "<table border=\"1\" class=\"dataframe\">\n",
       "  <thead>\n",
       "    <tr style=\"text-align: right;\">\n",
       "      <th></th>\n",
       "      <th>type</th>\n",
       "      <th>country</th>\n",
       "      <th>release_year</th>\n",
       "      <th>rating</th>\n",
       "      <th>listed_in</th>\n",
       "      <th>duration_int</th>\n",
       "      <th>year_added</th>\n",
       "    </tr>\n",
       "  </thead>\n",
       "  <tbody>\n",
       "    <tr>\n",
       "      <th>1</th>\n",
       "      <td>1</td>\n",
       "      <td>391</td>\n",
       "      <td>2021</td>\n",
       "      <td>8</td>\n",
       "      <td>394</td>\n",
       "      <td>2</td>\n",
       "      <td>2021</td>\n",
       "    </tr>\n",
       "    <tr>\n",
       "      <th>4</th>\n",
       "      <td>1</td>\n",
       "      <td>224</td>\n",
       "      <td>2021</td>\n",
       "      <td>8</td>\n",
       "      <td>373</td>\n",
       "      <td>2</td>\n",
       "      <td>2021</td>\n",
       "    </tr>\n",
       "    <tr>\n",
       "      <th>7</th>\n",
       "      <td>0</td>\n",
       "      <td>611</td>\n",
       "      <td>1993</td>\n",
       "      <td>8</td>\n",
       "      <td>301</td>\n",
       "      <td>125</td>\n",
       "      <td>2021</td>\n",
       "    </tr>\n",
       "    <tr>\n",
       "      <th>8</th>\n",
       "      <td>1</td>\n",
       "      <td>468</td>\n",
       "      <td>2021</td>\n",
       "      <td>6</td>\n",
       "      <td>109</td>\n",
       "      <td>9</td>\n",
       "      <td>2021</td>\n",
       "    </tr>\n",
       "    <tr>\n",
       "      <th>9</th>\n",
       "      <td>0</td>\n",
       "      <td>559</td>\n",
       "      <td>2021</td>\n",
       "      <td>4</td>\n",
       "      <td>189</td>\n",
       "      <td>104</td>\n",
       "      <td>2021</td>\n",
       "    </tr>\n",
       "  </tbody>\n",
       "</table>\n",
       "</div>"
      ],
      "text/plain": [
       "   type  country  release_year  rating  listed_in  duration_int  year_added\n",
       "1     1      391          2021       8        394             2        2021\n",
       "4     1      224          2021       8        373             2        2021\n",
       "7     0      611          1993       8        301           125        2021\n",
       "8     1      468          2021       6        109             9        2021\n",
       "9     0      559          2021       4        189           104        2021"
      ]
     },
     "execution_count": 21,
     "metadata": {},
     "output_type": "execute_result"
    }
   ],
   "source": [
    "from sklearn.preprocessing import LabelEncoder\n",
    "\n",
    "# Create the label encoder\n",
    "le = LabelEncoder()\n",
    "\n",
    "# List of columns to encode\n",
    "cols_to_encode = ['type', 'country', 'rating', 'listed_in']\n",
    "\n",
    "# Apply LabelEncoder to each column\n",
    "for col in cols_to_encode:\n",
    "    df[col] = le.fit_transform(df[col])\n",
    "    \n",
    "# Check the updated DataFrame\n",
    "df.head()\n"
   ]
  },
  {
   "cell_type": "markdown",
   "id": "11e2492a",
   "metadata": {},
   "source": [
    "### Split Data and Train Linear Regression Model\n",
    "\n",
    "We now train our first machine learning model using scikit-learn's Linear Regression.\n",
    "\n",
    "Steps:\n",
    "- Define features (X) and target (y)\n",
    "- Split into training (80%) and testing (20%) sets\n",
    "- Train the model on the training data\n",
    "- Evaluate model performance using R² score\n"
   ]
  },
  {
   "cell_type": "code",
   "execution_count": 22,
   "id": "90eba5ec",
   "metadata": {},
   "outputs": [
    {
     "name": "stdout",
     "output_type": "stream",
     "text": [
      "Training score (R²): 0.19914434022756622\n",
      "Testing score (R²): 0.23704856817789044\n"
     ]
    }
   ],
   "source": [
    "from sklearn.model_selection import train_test_split\n",
    "from sklearn.linear_model import LinearRegression\n",
    "\n",
    "# Define features (X) and target (y)\n",
    "X = df.drop('rating', axis=1)  # X = all columns except 'rating'\n",
    "y = df['rating']               # y = the 'rating' column we want to predict\n",
    "\n",
    "# Split the data (80% training, 20% testing)\n",
    "X_train, X_test, y_train, y_test = train_test_split(X, y, test_size=0.2, random_state=42)\n",
    "\n",
    "# Create a Linear Regression model\n",
    "model = LinearRegression()\n",
    "\n",
    "# Train the model\n",
    "model.fit(X_train, y_train)\n",
    "\n",
    "# Check model scores (R²)\n",
    "print(\"Training score (R²):\", model.score(X_train, y_train))\n",
    "print(\"Testing score (R²):\", model.score(X_test, y_test))\n"
   ]
  },
  {
   "cell_type": "markdown",
   "id": "adf60fb6",
   "metadata": {},
   "source": [
    "### Prediction and Visualization\n",
    "\n",
    "In this step, we will:\n",
    "- Use our trained linear regression model to make predictions on the test dataset\n",
    "- Visualize how close the predicted values are to the actual ratings using a scatter plot\n"
   ]
  },
  {
   "cell_type": "code",
   "execution_count": 24,
   "id": "ff3fd4d3",
   "metadata": {},
   "outputs": [
    {
     "data": {
      "image/png": "[encoded data removed]",
      "text/plain": [
       "<Figure size 800x500 with 1 Axes>"
      ]
     },
     "metadata": {},
     "output_type": "display_data"
    }
   ],
   "source": [
    "import numpy as np\n",
    "\n",
    "# Plot the same scatter plot again\n",
    "plt.figure(figsize=(8, 5))\n",
    "plt.scatter(y_test, y_pred, alpha=0.6, color='blue')\n",
    "\n",
    "# Draw the ideal prediction line\n",
    "min_val = min(min(y_test), min(y_pred))\n",
    "max_val = max(max(y_test), max(y_pred))\n",
    "plt.plot([min_val, max_val], [min_val, max_val], color='red', linestyle='--', label='Perfect Prediction Line')\n",
    "\n",
    "plt.xlabel('Actual Ratings')\n",
    "plt.ylabel('Predicted Ratings')\n",
    "plt.title('Actual vs Predicted Ratings')\n",
    "plt.grid(True)\n",
    "plt.legend()\n",
    "plt.show()\n"
   ]
  }
 ],
 "metadata": {
  "kernelspec": {
   "display_name": "Python 3",
   "language": "python",
   "name": "python3"
  },
  "language_info": {
   "codemirror_mode": {
    "name": "ipython",
    "version": 3
   },
   "file_extension": ".py",
   "mimetype": "text/x-python",
   "name": "python",
   "nbconvert_exporter": "python",
   "pygments_lexer": "ipython3",
   "version": "3.11.5"
  }
 },
 "nbformat": 4,
 "nbformat_minor": 5
}
