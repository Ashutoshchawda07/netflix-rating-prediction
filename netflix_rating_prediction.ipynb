{
 "cells": [
  {
   "cell_type": "markdown",
   "id": "2c5367a0",
   "metadata": {},
   "source": [
    "# Netflix User Rating Prediction Project\n",
    "\n",
    "\n",
    "### Load the Dataset\n",
    "\n",
    "We begin by loading the Netflix dataset using pandas. The dataset contains information about Netflix shows and movies such as title, type, country, release year, duration, and more.\n"
   ]
  },
  {
   "cell_type": "code",
   "execution_count": 28,
   "id": "a5605a2a",
   "metadata": {},
   "outputs": [
    {
     "data": {
      "text/html": [
       "<div>\n",
       "<style scoped>\n",
       "    .dataframe tbody tr th:only-of-type {\n",
       "        vertical-align: middle;\n",
       "    }\n",
       "\n",
       "    .dataframe tbody tr th {\n",
       "        vertical-align: top;\n",
       "    }\n",
       "\n",
       "    .dataframe thead th {\n",
       "        text-align: right;\n",
       "    }\n",
       "</style>\n",
       "<table border=\"1\" class=\"dataframe\">\n",
       "  <thead>\n",
       "    <tr style=\"text-align: right;\">\n",
       "      <th></th>\n",
       "      <th>show_id</th>\n",
       "      <th>type</th>\n",
       "      <th>title</th>\n",
       "      <th>director</th>\n",
       "      <th>cast</th>\n",
       "      <th>country</th>\n",
       "      <th>date_added</th>\n",
       "      <th>release_year</th>\n",
       "      <th>rating</th>\n",
       "      <th>duration</th>\n",
       "      <th>listed_in</th>\n",
       "      <th>description</th>\n",
       "    </tr>\n",
       "  </thead>\n",
       "  <tbody>\n",
       "    <tr>\n",
       "      <th>0</th>\n",
       "      <td>s1</td>\n",
       "      <td>Movie</td>\n",
       "      <td>Dick Johnson Is Dead</td>\n",
       "      <td>Kirsten Johnson</td>\n",
       "      <td>NaN</td>\n",
       "      <td>United States</td>\n",
       "      <td>September 25, 2021</td>\n",
       "      <td>2020</td>\n",
       "      <td>PG-13</td>\n",
       "      <td>90 min</td>\n",
       "      <td>Documentaries</td>\n",
       "      <td>As her father nears the end of his life, filmm...</td>\n",
       "    </tr>\n",
       "    <tr>\n",
       "      <th>1</th>\n",
       "      <td>s2</td>\n",
       "      <td>TV Show</td>\n",
       "      <td>Blood &amp; Water</td>\n",
       "      <td>NaN</td>\n",
       "      <td>Ama Qamata, Khosi Ngema, Gail Mabalane, Thaban...</td>\n",
       "      <td>South Africa</td>\n",
       "      <td>September 24, 2021</td>\n",
       "      <td>2021</td>\n",
       "      <td>TV-MA</td>\n",
       "      <td>2 Seasons</td>\n",
       "      <td>International TV Shows, TV Dramas, TV Mysteries</td>\n",
       "      <td>After crossing paths at a party, a Cape Town t...</td>\n",
       "    </tr>\n",
       "    <tr>\n",
       "      <th>2</th>\n",
       "      <td>s3</td>\n",
       "      <td>TV Show</td>\n",
       "      <td>Ganglands</td>\n",
       "      <td>Julien Leclercq</td>\n",
       "      <td>Sami Bouajila, Tracy Gotoas, Samuel Jouy, Nabi...</td>\n",
       "      <td>NaN</td>\n",
       "      <td>September 24, 2021</td>\n",
       "      <td>2021</td>\n",
       "      <td>TV-MA</td>\n",
       "      <td>1 Season</td>\n",
       "      <td>Crime TV Shows, International TV Shows, TV Act...</td>\n",
       "      <td>To protect his family from a powerful drug lor...</td>\n",
       "    </tr>\n",
       "    <tr>\n",
       "      <th>3</th>\n",
       "      <td>s4</td>\n",
       "      <td>TV Show</td>\n",
       "      <td>Jailbirds New Orleans</td>\n",
       "      <td>NaN</td>\n",
       "      <td>NaN</td>\n",
       "      <td>NaN</td>\n",
       "      <td>September 24, 2021</td>\n",
       "      <td>2021</td>\n",
       "      <td>TV-MA</td>\n",
       "      <td>1 Season</td>\n",
       "      <td>Docuseries, Reality TV</td>\n",
       "      <td>Feuds, flirtations and toilet talk go down amo...</td>\n",
       "    </tr>\n",
       "    <tr>\n",
       "      <th>4</th>\n",
       "      <td>s5</td>\n",
       "      <td>TV Show</td>\n",
       "      <td>Kota Factory</td>\n",
       "      <td>NaN</td>\n",
       "      <td>Mayur More, Jitendra Kumar, Ranjan Raj, Alam K...</td>\n",
       "      <td>India</td>\n",
       "      <td>September 24, 2021</td>\n",
       "      <td>2021</td>\n",
       "      <td>TV-MA</td>\n",
       "      <td>2 Seasons</td>\n",
       "      <td>International TV Shows, Romantic TV Shows, TV ...</td>\n",
       "      <td>In a city of coaching centers known to train I...</td>\n",
       "    </tr>\n",
       "  </tbody>\n",
       "</table>\n",
       "</div>"
      ],
      "text/plain": [
       "  show_id     type                  title         director  \\\n",
       "0      s1    Movie   Dick Johnson Is Dead  Kirsten Johnson   \n",
       "1      s2  TV Show          Blood & Water              NaN   \n",
       "2      s3  TV Show              Ganglands  Julien Leclercq   \n",
       "3      s4  TV Show  Jailbirds New Orleans              NaN   \n",
       "4      s5  TV Show           Kota Factory              NaN   \n",
       "\n",
       "                                                cast        country  \\\n",
       "0                                                NaN  United States   \n",
       "1  Ama Qamata, Khosi Ngema, Gail Mabalane, Thaban...   South Africa   \n",
       "2  Sami Bouajila, Tracy Gotoas, Samuel Jouy, Nabi...            NaN   \n",
       "3                                                NaN            NaN   \n",
       "4  Mayur More, Jitendra Kumar, Ranjan Raj, Alam K...          India   \n",
       "\n",
       "           date_added  release_year rating   duration  \\\n",
       "0  September 25, 2021          2020  PG-13     90 min   \n",
       "1  September 24, 2021          2021  TV-MA  2 Seasons   \n",
       "2  September 24, 2021          2021  TV-MA   1 Season   \n",
       "3  September 24, 2021          2021  TV-MA   1 Season   \n",
       "4  September 24, 2021          2021  TV-MA  2 Seasons   \n",
       "\n",
       "                                           listed_in  \\\n",
       "0                                      Documentaries   \n",
       "1    International TV Shows, TV Dramas, TV Mysteries   \n",
       "2  Crime TV Shows, International TV Shows, TV Act...   \n",
       "3                             Docuseries, Reality TV   \n",
       "4  International TV Shows, Romantic TV Shows, TV ...   \n",
       "\n",
       "                                         description  \n",
       "0  As her father nears the end of his life, filmm...  \n",
       "1  After crossing paths at a party, a Cape Town t...  \n",
       "2  To protect his family from a powerful drug lor...  \n",
       "3  Feuds, flirtations and toilet talk go down amo...  \n",
       "4  In a city of coaching centers known to train I...  "
      ]
     },
     "execution_count": 28,
     "metadata": {},
     "output_type": "execute_result"
    }
   ],
   "source": [
    "import pandas as pd\n",
    "\n",
    "# Load the dataset\n",
    "df = pd.read_csv('netflix_titles.csv')\n",
    "\n",
    "# Show the first 5 rows\n",
    "df.head()\n"
   ]
  },
  {
   "cell_type": "markdown",
   "id": "3aff4a6b",
   "metadata": {},
   "source": [
    "### Basic Information and Missing Values\n",
    "\n",
    "Let’s explore the shape, column names, and missing data in the dataset. This will help us understand how clean the data is and which columns may need attention.\n"
   ]
  },
  {
   "cell_type": "code",
   "execution_count": 29,
   "id": "de238ac0",
   "metadata": {},
   "outputs": [
    {
     "name": "stdout",
     "output_type": "stream",
     "text": [
      "Shape of the dataset: (8807, 12)\n",
      "\n",
      "Columns:\n",
      "Index(['show_id', 'type', 'title', 'director', 'cast', 'country', 'date_added',\n",
      "       'release_year', 'rating', 'duration', 'listed_in', 'description'],\n",
      "      dtype='object')\n",
      "\n",
      "Dataset Info:\n",
      "<class 'pandas.core.frame.DataFrame'>\n",
      "RangeIndex: 8807 entries, 0 to 8806\n",
      "Data columns (total 12 columns):\n",
      " #   Column        Non-Null Count  Dtype \n",
      "---  ------        --------------  ----- \n",
      " 0   show_id       8807 non-null   object\n",
      " 1   type          8807 non-null   object\n",
      " 2   title         8807 non-null   object\n",
      " 3   director      6173 non-null   object\n",
      " 4   cast          7982 non-null   object\n",
      " 5   country       7976 non-null   object\n",
      " 6   date_added    8797 non-null   object\n",
      " 7   release_year  8807 non-null   int64 \n",
      " 8   rating        8803 non-null   object\n",
      " 9   duration      8804 non-null   object\n",
      " 10  listed_in     8807 non-null   object\n",
      " 11  description   8807 non-null   object\n",
      "dtypes: int64(1), object(11)\n",
      "memory usage: 825.8+ KB\n",
      "\n",
      "Missing values in each column:\n",
      "show_id            0\n",
      "type               0\n",
      "title              0\n",
      "director        2634\n",
      "cast             825\n",
      "country          831\n",
      "date_added        10\n",
      "release_year       0\n",
      "rating             4\n",
      "duration           3\n",
      "listed_in          0\n",
      "description        0\n",
      "dtype: int64\n"
     ]
    }
   ],
   "source": [
    "# Check the shape of the dataset (rows, columns)\n",
    "print(\"Shape of the dataset:\", df.shape)\n",
    "\n",
    "# View column names\n",
    "print(\"\\nColumns:\")\n",
    "print(df.columns)\n",
    "\n",
    "# Basic info about data types and non-null counts\n",
    "print(\"\\nDataset Info:\")\n",
    "df.info()\n",
    "\n",
    "# Check for missing values\n",
    "print(\"\\nMissing values in each column:\")\n",
    "print(df.isnull().sum())\n"
   ]
  },
  {
   "cell_type": "markdown",
   "id": "7522ba65",
   "metadata": {},
   "source": [
    "### Clean the Dataset\n",
    "\n",
    "We'll remove columns that are either not useful or have too many missing values. We'll also drop rows with small amounts of missing data to keep the dataset clean and ready for analysis.\n"
   ]
  },
  {
   "cell_type": "code",
   "execution_count": 30,
   "id": "fbbce32a",
   "metadata": {},
   "outputs": [
    {
     "name": "stdout",
     "output_type": "stream",
     "text": [
      "Cleaned dataset shape: (7290, 9)\n"
     ]
    }
   ],
   "source": [
    "# Drop columns not useful for rating prediction\n",
    "df.drop(['show_id', 'description', 'director'], axis=1, inplace=True)\n",
    "\n",
    "# Optional: drop rows with any missing data (small % only)\n",
    "df.dropna(inplace=True)\n",
    "\n",
    "# Check the cleaned shape\n",
    "print(\"Cleaned dataset shape:\", df.shape)"
   ]
  },
  {
   "cell_type": "markdown",
   "id": "2fe4e2df",
   "metadata": {},
   "source": [
    "If you want to keep more data, you could fill missing values instead of dropping them:"
   ]
  },
  {
   "cell_type": "code",
   "execution_count": 31,
   "id": "57cca97c",
   "metadata": {},
   "outputs": [],
   "source": [
    "\n",
    "# df['country'].fillna('Unknown', inplace=True)\n",
    "# df['cast'].fillna('Not Available', inplace=True)\n",
    "# df['date_added'].fillna(df['date_added'].mode()[0], inplace=True)\n",
    "# df['rating'].fillna(df['rating'].mode()[0], inplace=True)\n",
    "# df['duration'].fillna(df['duration'].mode()[0], inplace=True)\n"
   ]
  },
  {
   "cell_type": "markdown",
   "id": "f4674910",
   "metadata": {},
   "source": [
    "### Check Data Types\n",
    "\n",
    "Now that we’ve cleaned the dataset, we’ll check the data types of all columns to identify which ones need to be converted for machine learning models.\n"
   ]
  },
  {
   "cell_type": "code",
   "execution_count": 32,
   "id": "a75ef2fb",
   "metadata": {},
   "outputs": [
    {
     "data": {
      "text/plain": [
       "type            object\n",
       "title           object\n",
       "cast            object\n",
       "country         object\n",
       "date_added      object\n",
       "release_year     int64\n",
       "rating          object\n",
       "duration        object\n",
       "listed_in       object\n",
       "dtype: object"
      ]
     },
     "execution_count": 32,
     "metadata": {},
     "output_type": "execute_result"
    }
   ],
   "source": [
    "# Check data types\n",
    "df.dtypes\n"
   ]
  },
  {
   "cell_type": "markdown",
   "id": "ef3c26f6",
   "metadata": {},
   "source": [
    "### Prepare Categorical Columns for Encoding\n",
    "\n",
    "Now that we know the data types, we need to decide how to handle categorical (text-based) columns. \n",
    "\n",
    "We will:\n",
    "- Identify which columns are categorical\n",
    "- Drop columns that are not useful for prediction (like 'title')\n",
    "- Leave the rest for encoding in the next step\n"
   ]
  },
  {
   "cell_type": "code",
   "execution_count": 33,
   "id": "dcb06bf5",
   "metadata": {},
   "outputs": [
    {
     "name": "stdout",
     "output_type": "stream",
     "text": [
      "\n",
      "Unique values in 'type': ['TV Show' 'Movie']\n",
      "\n",
      "Unique values in 'rating': ['TV-MA' 'TV-14' 'PG-13' 'TV-Y7' 'PG' 'R' 'TV-PG' 'TV-Y' 'TV-G' 'G'\n",
      " 'NC-17' 'NR' 'TV-Y7-FV' 'UR']\n",
      "\n",
      "Unique values in 'country': ['South Africa' 'India'\n",
      " 'United States, Ghana, Burkina Faso, United Kingdom, Germany, Ethiopia'\n",
      " 'United Kingdom' 'United States']\n",
      "\n",
      "Unique values in 'listed_in': ['International TV Shows, TV Dramas, TV Mysteries'\n",
      " 'International TV Shows, Romantic TV Shows, TV Comedies'\n",
      " 'Dramas, Independent Movies, International Movies'\n",
      " 'British TV Shows, Reality TV' 'Comedies, Dramas']\n",
      "\n",
      "Unique values in 'duration': ['2 Seasons' '125 min' '9 Seasons' '104 min' '127 min']\n"
     ]
    }
   ],
   "source": [
    "# View unique values in text columns to decide encoding strategy\n",
    "print(\"\\nUnique values in 'type':\", df['type'].unique())\n",
    "print(\"\\nUnique values in 'rating':\", df['rating'].unique())\n",
    "print(\"\\nUnique values in 'country':\", df['country'].unique()[:5])  # show only first 5\n",
    "print(\"\\nUnique values in 'listed_in':\", df['listed_in'].unique()[:5])\n",
    "print(\"\\nUnique values in 'duration':\", df['duration'].unique()[:5])\n"
   ]
  },
  {
   "cell_type": "markdown",
   "id": "387283de",
   "metadata": {},
   "source": [
    "### Clean date_added before converting\n",
    "\n",
    "The 'date_added' column has leading spaces in some rows. We use `.str.strip()` to remove them before converting to datetime.\n"
   ]
  },
  {
   "cell_type": "code",
   "execution_count": 34,
   "id": "c6f82368",
   "metadata": {},
   "outputs": [],
   "source": [
    "# Remove leading/trailing spaces in date_added column\n",
    "df['date_added'] = df['date_added'].str.strip()\n",
    "\n",
    "# Now safely convert to datetime and extract year\n",
    "df['year_added'] = pd.to_datetime(df['date_added']).dt.year\n"
   ]
  },
  {
   "cell_type": "markdown",
   "id": "a0bf33f1",
   "metadata": {},
   "source": [
    "### Drop and Convert Columns for Feature Engineering\n",
    "\n",
    "Now that we've reviewed the unique values, we'll:\n",
    "- Drop unnecessary text columns (`title`, `cast`)\n",
    "- Convert the `duration` column into numeric format\n",
    "- Extract the year from `date_added` to use as a feature\n"
   ]
  },
  {
   "cell_type": "code",
   "execution_count": 35,
   "id": "a20e3bca",
   "metadata": {},
   "outputs": [
    {
     "data": {
      "text/html": [
       "<div>\n",
       "<style scoped>\n",
       "    .dataframe tbody tr th:only-of-type {\n",
       "        vertical-align: middle;\n",
       "    }\n",
       "\n",
       "    .dataframe tbody tr th {\n",
       "        vertical-align: top;\n",
       "    }\n",
       "\n",
       "    .dataframe thead th {\n",
       "        text-align: right;\n",
       "    }\n",
       "</style>\n",
       "<table border=\"1\" class=\"dataframe\">\n",
       "  <thead>\n",
       "    <tr style=\"text-align: right;\">\n",
       "      <th></th>\n",
       "      <th>type</th>\n",
       "      <th>country</th>\n",
       "      <th>release_year</th>\n",
       "      <th>rating</th>\n",
       "      <th>listed_in</th>\n",
       "      <th>year_added</th>\n",
       "      <th>duration_int</th>\n",
       "    </tr>\n",
       "  </thead>\n",
       "  <tbody>\n",
       "    <tr>\n",
       "      <th>1</th>\n",
       "      <td>TV Show</td>\n",
       "      <td>South Africa</td>\n",
       "      <td>2021</td>\n",
       "      <td>TV-MA</td>\n",
       "      <td>International TV Shows, TV Dramas, TV Mysteries</td>\n",
       "      <td>2021</td>\n",
       "      <td>2</td>\n",
       "    </tr>\n",
       "    <tr>\n",
       "      <th>4</th>\n",
       "      <td>TV Show</td>\n",
       "      <td>India</td>\n",
       "      <td>2021</td>\n",
       "      <td>TV-MA</td>\n",
       "      <td>International TV Shows, Romantic TV Shows, TV ...</td>\n",
       "      <td>2021</td>\n",
       "      <td>2</td>\n",
       "    </tr>\n",
       "    <tr>\n",
       "      <th>7</th>\n",
       "      <td>Movie</td>\n",
       "      <td>United States, Ghana, Burkina Faso, United Kin...</td>\n",
       "      <td>1993</td>\n",
       "      <td>TV-MA</td>\n",
       "      <td>Dramas, Independent Movies, International Movies</td>\n",
       "      <td>2021</td>\n",
       "      <td>125</td>\n",
       "    </tr>\n",
       "    <tr>\n",
       "      <th>8</th>\n",
       "      <td>TV Show</td>\n",
       "      <td>United Kingdom</td>\n",
       "      <td>2021</td>\n",
       "      <td>TV-14</td>\n",
       "      <td>British TV Shows, Reality TV</td>\n",
       "      <td>2021</td>\n",
       "      <td>9</td>\n",
       "    </tr>\n",
       "    <tr>\n",
       "      <th>9</th>\n",
       "      <td>Movie</td>\n",
       "      <td>United States</td>\n",
       "      <td>2021</td>\n",
       "      <td>PG-13</td>\n",
       "      <td>Comedies, Dramas</td>\n",
       "      <td>2021</td>\n",
       "      <td>104</td>\n",
       "    </tr>\n",
       "  </tbody>\n",
       "</table>\n",
       "</div>"
      ],
      "text/plain": [
       "      type                                            country  release_year  \\\n",
       "1  TV Show                                       South Africa          2021   \n",
       "4  TV Show                                              India          2021   \n",
       "7    Movie  United States, Ghana, Burkina Faso, United Kin...          1993   \n",
       "8  TV Show                                     United Kingdom          2021   \n",
       "9    Movie                                      United States          2021   \n",
       "\n",
       "  rating                                          listed_in  year_added  \\\n",
       "1  TV-MA    International TV Shows, TV Dramas, TV Mysteries        2021   \n",
       "4  TV-MA  International TV Shows, Romantic TV Shows, TV ...        2021   \n",
       "7  TV-MA   Dramas, Independent Movies, International Movies        2021   \n",
       "8  TV-14                       British TV Shows, Reality TV        2021   \n",
       "9  PG-13                                   Comedies, Dramas        2021   \n",
       "\n",
       "   duration_int  \n",
       "1             2  \n",
       "4             2  \n",
       "7           125  \n",
       "8             9  \n",
       "9           104  "
      ]
     },
     "execution_count": 35,
     "metadata": {},
     "output_type": "execute_result"
    }
   ],
   "source": [
    "# Drop unnecessary text columns\n",
    "\n",
    "df.drop(['title', 'cast'], axis=1, inplace=True)\n",
    "\n",
    "# Convert 'duration' into numeric values (e.g., \"90 min\" → 90, \"2 Seasons\" → 2)\n",
    "# We'll create a new column: duration_int\n",
    "df['duration_int'] = df['duration'].str.extract('(\\d+)').astype(int)\n",
    "\n",
    "# Extract year from 'date_added' (e.g., \"September 9, 2019\" → 2019)\n",
    "df['year_added'] = pd.to_datetime(df['date_added']).dt.year\n",
    "\n",
    "# Drop the original 'duration' and 'date_added' columns\n",
    "df.drop(['duration', 'date_added'], axis=1, inplace=True)\n",
    "\n",
    "# Check result\n",
    "df.head()\n"
   ]
  },
  {
   "cell_type": "markdown",
   "id": "59672eec",
   "metadata": {},
   "source": [
    "### Encode Remaining Categorical Columns (Label Encoding)\n",
    "\n",
    "At this point, your dataset still has some columns with text that we need to convert into numbers."
   ]
  },
  {
   "cell_type": "code",
   "execution_count": 36,
   "id": "acb1d1d0",
   "metadata": {},
   "outputs": [
    {
     "data": {
      "text/plain": [
       "type            object\n",
       "country         object\n",
       "release_year     int64\n",
       "rating          object\n",
       "listed_in       object\n",
       "year_added       int32\n",
       "duration_int     int64\n",
       "dtype: object"
      ]
     },
     "execution_count": 36,
     "metadata": {},
     "output_type": "execute_result"
    }
   ],
   "source": [
    "df.columns\n",
    "df.dtypes"
   ]
  },
  {
   "cell_type": "markdown",
   "id": "f15f6bd9",
   "metadata": {},
   "source": [
    "### Encode Remaining Categorical Columns Using Label Encoding\n",
    "\n",
    "Machine learning models like Linear Regression require all features to be numeric.\n",
    "\n",
    "We will use `LabelEncoder` from `sklearn` to convert the following columns to numbers:\n",
    "- 'type'\n",
    "- 'country'\n",
    "- 'rating'\n",
    "- 'listed_in'\n"
   ]
  },
  {
   "cell_type": "code",
   "execution_count": 37,
   "id": "9b152f19",
   "metadata": {},
   "outputs": [
    {
     "data": {
      "text/html": [
       "<div>\n",
       "<style scoped>\n",
       "    .dataframe tbody tr th:only-of-type {\n",
       "        vertical-align: middle;\n",
       "    }\n",
       "\n",
       "    .dataframe tbody tr th {\n",
       "        vertical-align: top;\n",
       "    }\n",
       "\n",
       "    .dataframe thead th {\n",
       "        text-align: right;\n",
       "    }\n",
       "</style>\n",
       "<table border=\"1\" class=\"dataframe\">\n",
       "  <thead>\n",
       "    <tr style=\"text-align: right;\">\n",
       "      <th></th>\n",
       "      <th>type</th>\n",
       "      <th>country</th>\n",
       "      <th>release_year</th>\n",
       "      <th>rating</th>\n",
       "      <th>listed_in</th>\n",
       "      <th>year_added</th>\n",
       "      <th>duration_int</th>\n",
       "    </tr>\n",
       "  </thead>\n",
       "  <tbody>\n",
       "    <tr>\n",
       "      <th>1</th>\n",
       "      <td>1</td>\n",
       "      <td>391</td>\n",
       "      <td>2021</td>\n",
       "      <td>8</td>\n",
       "      <td>394</td>\n",
       "      <td>2021</td>\n",
       "      <td>2</td>\n",
       "    </tr>\n",
       "    <tr>\n",
       "      <th>4</th>\n",
       "      <td>1</td>\n",
       "      <td>224</td>\n",
       "      <td>2021</td>\n",
       "      <td>8</td>\n",
       "      <td>373</td>\n",
       "      <td>2021</td>\n",
       "      <td>2</td>\n",
       "    </tr>\n",
       "    <tr>\n",
       "      <th>7</th>\n",
       "      <td>0</td>\n",
       "      <td>611</td>\n",
       "      <td>1993</td>\n",
       "      <td>8</td>\n",
       "      <td>301</td>\n",
       "      <td>2021</td>\n",
       "      <td>125</td>\n",
       "    </tr>\n",
       "    <tr>\n",
       "      <th>8</th>\n",
       "      <td>1</td>\n",
       "      <td>468</td>\n",
       "      <td>2021</td>\n",
       "      <td>6</td>\n",
       "      <td>109</td>\n",
       "      <td>2021</td>\n",
       "      <td>9</td>\n",
       "    </tr>\n",
       "    <tr>\n",
       "      <th>9</th>\n",
       "      <td>0</td>\n",
       "      <td>559</td>\n",
       "      <td>2021</td>\n",
       "      <td>4</td>\n",
       "      <td>189</td>\n",
       "      <td>2021</td>\n",
       "      <td>104</td>\n",
       "    </tr>\n",
       "  </tbody>\n",
       "</table>\n",
       "</div>"
      ],
      "text/plain": [
       "   type  country  release_year  rating  listed_in  year_added  duration_int\n",
       "1     1      391          2021       8        394        2021             2\n",
       "4     1      224          2021       8        373        2021             2\n",
       "7     0      611          1993       8        301        2021           125\n",
       "8     1      468          2021       6        109        2021             9\n",
       "9     0      559          2021       4        189        2021           104"
      ]
     },
     "execution_count": 37,
     "metadata": {},
     "output_type": "execute_result"
    }
   ],
   "source": [
    "from sklearn.preprocessing import LabelEncoder\n",
    "\n",
    "# Create the label encoder\n",
    "le = LabelEncoder()\n",
    "\n",
    "# List of columns to encode\n",
    "cols_to_encode = ['type', 'country', 'rating', 'listed_in']\n",
    "\n",
    "# Apply LabelEncoder to each column\n",
    "for col in cols_to_encode:\n",
    "    df[col] = le.fit_transform(df[col])\n",
    "    \n",
    "# Check the updated DataFrame\n",
    "df.head()\n"
   ]
  },
  {
   "cell_type": "markdown",
   "id": "11e2492a",
   "metadata": {},
   "source": [
    "### Split Data and Train Linear Regression Model\n",
    "\n",
    "We now train our first machine learning model using scikit-learn's Linear Regression.\n",
    "\n",
    "Steps:\n",
    "- Define features (X) and target (y)\n",
    "- Split into training (80%) and testing (20%) sets\n",
    "- Train the model on the training data\n",
    "- Evaluate model performance using R² score\n"
   ]
  },
  {
   "cell_type": "code",
   "execution_count": 38,
   "id": "90eba5ec",
   "metadata": {},
   "outputs": [
    {
     "name": "stdout",
     "output_type": "stream",
     "text": [
      "Training score (R²): 0.19914434022756589\n",
      "Testing score (R²): 0.23704856817788933\n"
     ]
    }
   ],
   "source": [
    "from sklearn.model_selection import train_test_split\n",
    "from sklearn.linear_model import LinearRegression\n",
    "\n",
    "# Define features (X) and target (y)\n",
    "X = df.drop('rating', axis=1)  # X = all columns except 'rating'\n",
    "y = df['rating']               # y = the 'rating' column we want to predict\n",
    "\n",
    "# Split the data (80% training, 20% testing)\n",
    "X_train, X_test, y_train, y_test = train_test_split(X, y, test_size=0.2, random_state=42)\n",
    "\n",
    "# Create a Linear Regression model\n",
    "model = LinearRegression()\n",
    "\n",
    "# Train the model\n",
    "model.fit(X_train, y_train)\n",
    "\n",
    "# Check model scores (R²)\n",
    "print(\"Training score (R²):\", model.score(X_train, y_train))\n",
    "print(\"Testing score (R²):\", model.score(X_test, y_test))\n"
   ]
  },
  {
   "cell_type": "markdown",
   "id": "adf60fb6",
   "metadata": {},
   "source": [
    "### Prediction and Visualization\n",
    "\n",
    "In this step, we will:\n",
    "- Use our trained linear regression model to make predictions on the test dataset\n",
    "- Visualize how close the predicted values are to the actual ratings using a scatter plot\n"
   ]
  },
  {
   "cell_type": "code",
   "execution_count": 40,
   "id": "4c0b7c0f",
   "metadata": {},
   "outputs": [
    {
     "name": "stdout",
     "output_type": "stream",
     "text": [
      "   Actual  Predicted\n",
      "0       8   7.136604\n",
      "1       6   7.800217\n",
      "2       6   6.413265\n",
      "3       8   7.445502\n",
      "4       8   7.004939\n",
      "5       7   8.513947\n",
      "6       6   7.392430\n",
      "7       8   7.439719\n",
      "8       5   6.956150\n",
      "9       6   5.879741\n"
     ]
    }
   ],
   "source": [
    "# Predict on the test set\n",
    "y_pred = model.predict(X_test)\n",
    "\n",
    "# Compare actual vs predicted for first 10 examples\n",
    "comparison = pd.DataFrame({'Actual': y_test[:10].values, 'Predicted': y_pred[:10]})\n",
    "print(comparison)\n"
   ]
  },
  {
   "cell_type": "code",
   "execution_count": 39,
   "id": "ff3fd4d3",
   "metadata": {},
   "outputs": [
    {
     "data": {
      "image/png": "[encoded data removed]",
      "text/plain": [
       "<Figure size 800x500 with 1 Axes>"
      ]
     },
     "metadata": {},
     "output_type": "display_data"
    }
   ],
   "source": [
    "import numpy as np\n",
    "import matplotlib.pyplot as plt\n",
    "# Plot the same scatter plot again\n",
    "plt.figure(figsize=(8, 5))\n",
    "plt.scatter(y_test, y_pred, alpha=0.6, color='blue')\n",
    "\n",
    "# Draw the ideal prediction line\n",
    "min_val = min(min(y_test), min(y_pred))\n",
    "max_val = max(max(y_test), max(y_pred))\n",
    "plt.plot([min_val, max_val], [min_val, max_val], color='red', linestyle='--', label='Perfect Prediction Line')\n",
    "\n",
    "plt.xlabel('Actual Ratings')\n",
    "plt.ylabel('Predicted Ratings')\n",
    "plt.title('Actual vs Predicted Ratings')\n",
    "plt.grid(True)\n",
    "plt.legend()\n",
    "plt.show()\n"
   ]
  },
  {
   "cell_type": "markdown",
   "id": "7659be76",
   "metadata": {},
   "source": [
    "##  Final Evaluation — Actual vs Predicted Ratings\n",
    "\n",
    "To evaluate the model’s real-world usefulness, we compare the actual Netflix ratings with the predicted ratings for a few test samples.\n",
    "\n",
    "| Actual | Predicted |\n",
    "|--------|-----------|\n",
    "|   8    |   7.13    |\n",
    "|   6    |   7.80    |\n",
    "|   6    |   6.41    |\n",
    "|   8    |   7.45    |\n",
    "|   8    |   7.00    |\n",
    "|   7    |   8.51    |\n",
    "|   6    |   7.39    |\n",
    "|   8    |   7.43    |\n",
    "|   5    |   6.95    |\n",
    "|   6    |   5.87    |\n",
    "\n",
    "We can see that the model predicts ratings fairly close to the actual values, although there's room for improvement.  \n",
    "This step helps us **visually confirm the effectiveness** of our regression model.\n"
   ]
  },
  {
   "cell_type": "markdown",
   "id": "92c6ffaa",
   "metadata": {},
   "source": [
    "## Model Upgrade with RandomForestRegressor\n",
    "\n",
    "The Linear Regression model was limited in capturing complex relationships between features and ratings, leading to a low R² score (~0.2).  \n",
    "We replace it with **RandomForestRegressor**, a tree-based ensemble method that usually performs better on mixed data (categorical + numeric).\n",
    "\n",
    "**Why Random Forest?**\n",
    "- Handles non-linear relationships well\n",
    "- Robust to outliers and missing values\n",
    "- Works well on categorical + numeric data\n",
    "\n",
    "We will:\n",
    "1. Import `RandomForestRegressor`\n",
    "2. Train it on the same training data\n",
    "3. Compare its R² scores with Linear Regression\n"
   ]
  },
  {
   "cell_type": "code",
   "execution_count": 41,
   "id": "897cf806",
   "metadata": {},
   "outputs": [
    {
     "name": "stdout",
     "output_type": "stream",
     "text": [
      "Training score (R²): 0.9104925887573343\n",
      "Testing score (R²): 0.398734159528351\n"
     ]
    }
   ],
   "source": [
    "from sklearn.ensemble import RandomForestRegressor\n",
    "\n",
    "# Initialize the model\n",
    "rf_model = RandomForestRegressor(n_estimators=100, random_state=42)\n",
    "\n",
    "# Train the model\n",
    "rf_model.fit(X_train, y_train)\n",
    "\n",
    "# Evaluate performance\n",
    "print(\"Training score (R²):\", rf_model.score(X_train, y_train))\n",
    "print(\"Testing score (R²):\", rf_model.score(X_test, y_test))\n"
   ]
  },
  {
   "cell_type": "markdown",
   "id": "a44ff853",
   "metadata": {},
   "source": [
    "## Hyperparameter Tuning for RandomForestRegressor\n",
    "\n",
    "Random Forest can easily overfit if:\n",
    "- Trees are too deep\n",
    "- Too many trees learn from very small random samples\n",
    "\n",
    "We tune key parameters:\n",
    "- `max_depth`: Limit tree depth to avoid overly complex models\n",
    "- `min_samples_split`: Minimum samples required to split a node\n",
    "- `min_samples_leaf`: Minimum samples at a leaf node\n",
    "\n",
    "This helps improve the Testing R² score by reducing overfitting.\n"
   ]
  },
  {
   "cell_type": "code",
   "execution_count": 42,
   "id": "410b4dcd",
   "metadata": {},
   "outputs": [
    {
     "name": "stdout",
     "output_type": "stream",
     "text": [
      "Training score (R²): 0.6591873496878418\n",
      "Testing score (R²): 0.452186094525736\n"
     ]
    }
   ],
   "source": [
    "# Create a tuned Random Forest model\n",
    "rf_tuned = RandomForestRegressor(\n",
    "    n_estimators=200,       # More trees for stability\n",
    "    max_depth=10,           # Limit depth to prevent overfitting\n",
    "    min_samples_split=5,    # A node must have at least 5 samples to split\n",
    "    min_samples_leaf=2,     # A leaf must have at least 2 samples\n",
    "    random_state=42\n",
    ")\n",
    "\n",
    "# Train the tuned model\n",
    "rf_tuned.fit(X_train, y_train)\n",
    "\n",
    "# Evaluate performance\n",
    "print(\"Training score (R²):\", rf_tuned.score(X_train, y_train))\n",
    "print(\"Testing score (R²):\", rf_tuned.score(X_test, y_test))\n"
   ]
  },
  {
   "cell_type": "markdown",
   "id": "e0bbd5ac",
   "metadata": {},
   "source": [
    "## Feature Importance in Random Forest\n",
    "\n",
    "Random Forest not only predicts values but also calculates how much each feature\n",
    "contributes to the prediction.  \n",
    "This is useful to:\n",
    "- Understand which features have the most influence\n",
    "- Potentially remove weak features to simplify the model\n",
    "\n",
    "We’ll plot a bar chart to visualize feature importance.\n"
   ]
  },
  {
   "cell_type": "code",
   "execution_count": 43,
   "id": "6a909f07",
   "metadata": {},
   "outputs": [
    {
     "data": {
      "image/png": "[encoded data removed]",
      "text/plain": [
       "<Figure size 800x500 with 1 Axes>"
      ]
     },
     "metadata": {},
     "output_type": "display_data"
    }
   ],
   "source": [
    "import matplotlib.pyplot as plt\n",
    "import pandas as pd\n",
    "\n",
    "# Get feature importances\n",
    "feature_importances = pd.Series(rf_tuned.feature_importances_, index=X_train.columns)\n",
    "\n",
    "# Sort features by importance\n",
    "feature_importances = feature_importances.sort_values(ascending=False)\n",
    "\n",
    "# Plot feature importance\n",
    "plt.figure(figsize=(8,5))\n",
    "feature_importances.plot(kind='bar')\n",
    "plt.title('Feature Importance in Random Forest')\n",
    "plt.ylabel('Importance Score')\n",
    "plt.xlabel('Features')\n",
    "plt.show()\n"
   ]
  },
  {
   "cell_type": "markdown",
   "id": "650ffa13",
   "metadata": {},
   "source": [
    "## Cross-Validation for Model Stability\n",
    "\n",
    "A single train-test split might give a misleading score if the data split is lucky or unlucky.\n",
    "Cross-validation solves this by:\n",
    "- Splitting the dataset into multiple folds (e.g., 5)\n",
    "- Training & testing on different folds\n",
    "- Averaging the results for a more reliable score\n"
   ]
  },
  {
   "cell_type": "code",
   "execution_count": 44,
   "id": "78c45df3",
   "metadata": {},
   "outputs": [
    {
     "name": "stdout",
     "output_type": "stream",
     "text": [
      "Cross-validation scores (R²): [0.51558163 0.30629881 0.22396869 0.29871516 0.43691173]\n",
      "Average R² score: 0.3562952037245343\n"
     ]
    }
   ],
   "source": [
    "from sklearn.model_selection import cross_val_score\n",
    "\n",
    "# Perform 5-fold cross-validation\n",
    "cv_scores = cross_val_score(rf_tuned, X, y, cv=5, scoring='r2')\n",
    "\n",
    "print(\"Cross-validation scores (R²):\", cv_scores)\n",
    "print(\"Average R² score:\", cv_scores.mean())\n"
   ]
  },
  {
   "cell_type": "markdown",
   "id": "60a48136",
   "metadata": {},
   "source": [
    "## Automatic Hyperparameter Tuning using GridSearchCV\n",
    "\n",
    "Manually setting model parameters can lead to suboptimal results.  \n",
    "GridSearchCV automates this process by:\n",
    "- Trying different parameter combinations\n",
    "- Using cross-validation to evaluate each set\n",
    "- Returning the combination with the best score\n"
   ]
  },
  {
   "cell_type": "code",
   "execution_count": 55,
   "id": "79efc7d4",
   "metadata": {},
   "outputs": [
    {
     "name": "stdout",
     "output_type": "stream",
     "text": [
      "Best Parameters: {'max_depth': 10, 'min_samples_leaf': 2, 'min_samples_split': 2, 'n_estimators': 300}\n",
      "Test R² score: 0.4514653295247034\n"
     ]
    }
   ],
   "source": [
    "from sklearn.model_selection import GridSearchCV\n",
    "from sklearn.ensemble import RandomForestRegressor\n",
    "\n",
    "# Define the parameter grid\n",
    "param_grid = {\n",
    "    'n_estimators': [100, 200, 300],\n",
    "    'max_depth': [None, 10, 20],\n",
    "    'min_samples_split': [2, 5, 10],\n",
    "    'min_samples_leaf': [1, 2, 4]\n",
    "}\n",
    "\n",
    "# Create the model\n",
    "rf = RandomForestRegressor(random_state=42)\n",
    "\n",
    "# Create the GridSearchCV object\n",
    "grid_search = GridSearchCV(estimator=rf, param_grid=param_grid,\n",
    "                           cv=5, scoring='r2', n_jobs=-1)\n",
    "\n",
    "# Fit the model\n",
    "grid_search.fit(X_train, y_train)\n",
    "\n",
    "# Best parameters\n",
    "print(\"Best Parameters:\", grid_search.best_params_)\n",
    "\n",
    "# Best model\n",
    "best_model = grid_search.best_estimator_\n",
    "\n",
    "# Evaluate on test set\n",
    "print(\"Test R² score:\", best_model.score(X_test, y_test))\n"
   ]
  },
  {
   "cell_type": "markdown",
   "id": "9a487855",
   "metadata": {},
   "source": [
    "## Model Comparison & Finalization\n",
    "\n",
    "We will:\n",
    "1. Check the Train R² and Test R² of all models.\n",
    "2. Compare them to see which performs best without overfitting.\n",
    "\n",
    "The best model will have:\n",
    "- High Test R²\n",
    "- Small gap between Train and Test R²\n"
   ]
  },
  {
   "cell_type": "code",
   "execution_count": 52,
   "id": "8813441e",
   "metadata": {},
   "outputs": [
    {
     "name": "stdout",
     "output_type": "stream",
     "text": [
      "Linear Regression → Train R²: 0.6652, Test R²: 0.4515\n",
      "Basic RF → Train R²: 0.9105, Test R²: 0.3987\n",
      "Tuned RF → Train R²: 0.6592, Test R²: 0.4522\n",
      "GridSearch Best → Train R²: 0.6652, Test R²: 0.4515\n"
     ]
    }
   ],
   "source": [
    "# Compare models\n",
    "models = {\n",
    "    \"Linear Regression\": model,\n",
    "    \"Basic RF\": rf_model,\n",
    "    \"Tuned RF\": rf_tuned,\n",
    "    \"GridSearch Best\": grid_search.best_estimator_\n",
    "}\n",
    "\n",
    "for name, model in models.items():\n",
    "    train_score = model.score(X_train, y_train)\n",
    "    test_score = model.score(X_test, y_test)\n",
    "    print(f\"{name} → Train R²: {train_score:.4f}, Test R²: {test_score:.4f}\")\n"
   ]
  },
  {
   "cell_type": "markdown",
   "id": "c9544f90",
   "metadata": {},
   "source": [
    "### Visual Comparison of Models (Train vs Test R²)\n",
    "\n",
    "We will plot a grouped bar chart showing Train and Test R² for each model:\n",
    "- Linear Regression\n",
    "- Basic Random Forest\n",
    "- Tuned Random Forest\n",
    "- GridSearch Best model\n",
    "\n",
    "This helps pick the model that has the best test performance with the smallest overfitting gap.\n"
   ]
  },
  {
   "cell_type": "code",
   "execution_count": 53,
   "id": "33ed4a31",
   "metadata": {},
   "outputs": [
    {
     "data": {
      "text/html": [
       "<div>\n",
       "<style scoped>\n",
       "    .dataframe tbody tr th:only-of-type {\n",
       "        vertical-align: middle;\n",
       "    }\n",
       "\n",
       "    .dataframe tbody tr th {\n",
       "        vertical-align: top;\n",
       "    }\n",
       "\n",
       "    .dataframe thead th {\n",
       "        text-align: right;\n",
       "    }\n",
       "</style>\n",
       "<table border=\"1\" class=\"dataframe\">\n",
       "  <thead>\n",
       "    <tr style=\"text-align: right;\">\n",
       "      <th></th>\n",
       "      <th>Model</th>\n",
       "      <th>Train R2</th>\n",
       "      <th>Test R2</th>\n",
       "    </tr>\n",
       "  </thead>\n",
       "  <tbody>\n",
       "    <tr>\n",
       "      <th>0</th>\n",
       "      <td>Linear Regression</td>\n",
       "      <td>0.665213</td>\n",
       "      <td>0.451465</td>\n",
       "    </tr>\n",
       "    <tr>\n",
       "      <th>1</th>\n",
       "      <td>Basic RF</td>\n",
       "      <td>0.910493</td>\n",
       "      <td>0.398734</td>\n",
       "    </tr>\n",
       "    <tr>\n",
       "      <th>2</th>\n",
       "      <td>Tuned RF</td>\n",
       "      <td>0.659187</td>\n",
       "      <td>0.452186</td>\n",
       "    </tr>\n",
       "    <tr>\n",
       "      <th>3</th>\n",
       "      <td>GridSearch Best</td>\n",
       "      <td>0.665213</td>\n",
       "      <td>0.451465</td>\n",
       "    </tr>\n",
       "  </tbody>\n",
       "</table>\n",
       "</div>"
      ],
      "text/plain": [
       "               Model  Train R2   Test R2\n",
       "0  Linear Regression  0.665213  0.451465\n",
       "1           Basic RF  0.910493  0.398734\n",
       "2           Tuned RF  0.659187  0.452186\n",
       "3    GridSearch Best  0.665213  0.451465"
      ]
     },
     "metadata": {},
     "output_type": "display_data"
    },
    {
     "data": {
      "image/png": "[encoded data removed]",
      "text/plain": [
       "<Figure size 1000x600 with 1 Axes>"
      ]
     },
     "metadata": {},
     "output_type": "display_data"
    }
   ],
   "source": [
    "# Try to compute scores from model objects if they exist in the environment,\n",
    "# otherwise fallback to the previously observed scores you reported.\n",
    "try:\n",
    "    models = {\n",
    "        'Linear Regression': model,                # your linear model variable\n",
    "        'Basic RF': rf_model,                      # basic random forest\n",
    "        'Tuned RF': rf_tuned,                      # manually tuned RF\n",
    "        'GridSearch Best': grid_search.best_estimator_\n",
    "    }\n",
    "    labels = list(models.keys())\n",
    "    train_scores = [m.score(X_train, y_train) for m in models.values()]\n",
    "    test_scores  = [m.score(X_test, y_test)  for m in models.values()]\n",
    "\n",
    "except Exception:\n",
    "    # Fallback: use the scores you reported earlier\n",
    "    labels = ['Linear Regression', 'Basic RF', 'Tuned RF', 'GridSearch Best']\n",
    "    train_scores = [0.1991, 0.9105, 0.6592, 0.6652]\n",
    "    test_scores  = [0.2370, 0.3987, 0.4522, 0.4515]\n",
    "\n",
    "# Create a DataFrame (nice to view in notebook)\n",
    "scores_df = pd.DataFrame({\n",
    "    'Model': labels,\n",
    "    'Train R2': train_scores,\n",
    "    'Test R2': test_scores\n",
    "})\n",
    "display(scores_df)\n",
    "\n",
    "# Plot grouped bar chart\n",
    "x = np.arange(len(labels))\n",
    "width = 0.35\n",
    "\n",
    "plt.figure(figsize=(10,6))\n",
    "plt.bar(x - width/2, train_scores, width, label='Train R²')\n",
    "plt.bar(x + width/2, test_scores, width, label='Test R²')\n",
    "plt.xticks(x, labels, rotation=30)\n",
    "plt.ylabel('R² Score')\n",
    "plt.ylim(0, 1)\n",
    "plt.title('Model Comparison: Train vs Test R²')\n",
    "plt.legend()\n",
    "plt.grid(axis='y', linestyle='--', alpha=0.4)\n",
    "plt.tight_layout()\n",
    "plt.show()\n"
   ]
  },
  {
   "cell_type": "markdown",
   "id": "b96c5160",
   "metadata": {},
   "source": [
    "### Save the Final Trained Model\n",
    "\n",
    "We will save our best model (Tuned Random Forest) to a `.pkl` file using the `joblib` library.\n",
    "\n",
    "Benefits:\n",
    "- No need to retrain every time.\n",
    "- Easy to reuse in another script or after closing VS Code.\n",
    "- Can be uploaded to GitHub for sharing or deployment.\n",
    "\n",
    "We'll name the file `netflix_rating_model.pkl`.\n"
   ]
  },
  {
   "cell_type": "code",
   "execution_count": 54,
   "id": "bf7a8383",
   "metadata": {},
   "outputs": [
    {
     "name": "stdout",
     "output_type": "stream",
     "text": [
      "Model saved as netflix_rating_model.pkl\n"
     ]
    }
   ],
   "source": [
    "import joblib\n",
    "\n",
    "# Save the Tuned Random Forest model to a file\n",
    "joblib.dump(rf_tuned, \"netflix_rating_model.pkl\")\n",
    "\n",
    "print(\"Model saved as netflix_rating_model.pkl\")\n"
   ]
  }
 ],
 "metadata": {
  "kernelspec": {
   "display_name": "Python 3",
   "language": "python",
   "name": "python3"
  },
  "language_info": {
   "codemirror_mode": {
    "name": "ipython",
    "version": 3
   },
   "file_extension": ".py",
   "mimetype": "text/x-python",
   "name": "python",
   "nbconvert_exporter": "python",
   "pygments_lexer": "ipython3",
   "version": "3.11.5"
  }
 },
 "nbformat": 4,
 "nbformat_minor": 5
}
